{
 "cells": [
  {
   "cell_type": "code",
   "execution_count": 2,
   "metadata": {},
   "outputs": [],
   "source": [
    "import csv"
   ]
  },
  {
   "cell_type": "code",
   "execution_count": 3,
   "metadata": {},
   "outputs": [],
   "source": [
    "inventory = []\n",
    "csv_filename = \"inventory.csv\""
   ]
  },
  {
   "cell_type": "code",
   "execution_count": 4,
   "metadata": {},
   "outputs": [],
   "source": [
    "def load_inventory():\n",
    "    try:\n",
    "        with open(csv_filename, 'r') as file:\n",
    "            reader = csv.DictReader(file)\n",
    "            for row in reader:\n",
    "                item = row['Item']\n",
    "                inventory.append(item)\n",
    "        print(\"Inventory loaded successfully.\")\n",
    "    except FileNotFoundError:\n",
    "        print(\"No inventory file found. Starting with an empty inventory.\")"
   ]
  },
  {
   "cell_type": "code",
   "execution_count": 5,
   "metadata": {},
   "outputs": [],
   "source": [
    "def save_inventory():\n",
    "    with open(csv_filename, 'w', newline='') as file:\n",
    "        writer = csv.DictWriter(file, fieldnames=['Item'])\n",
    "        writer.writeheader()\n",
    "        for item in inventory:\n",
    "            writer.writerow({'Item': item})\n",
    "        print(\"Inventory saved successfully.\")"
   ]
  },
  {
   "cell_type": "code",
   "execution_count": 6,
   "metadata": {},
   "outputs": [],
   "source": [
    "def show_inventory():\n",
    "    if not inventory:\n",
    "        print(\"Your inventory is empty.\")\n",
    "    else:\n",
    "        print(\"Your inventory:\")\n",
    "        for item in inventory:\n",
    "            print(\"-\", item)"
   ]
  },
  {
   "cell_type": "code",
   "execution_count": 9,
   "metadata": {},
   "outputs": [],
   "source": [
    "def start_game():\n",
    "    print(\"Welcome to 'The Enchanted Forest Adventure'!\")\n",
    "    load_inventory()\n",
    "    while True:\n",
    "        print(\"Commands:\")\n",
    "        print(\"'go ': Move in a specific direction.\")\n",
    "        print(\"'look around': Examine your surroundings.\")\n",
    "        print(\"'inventory': Display your current inventory.\")\n",
    "        print(\"'add': Add an item to your inventory.\")\n",
    "        print(\"'remove': Remove an item from your inventory.\")\n",
    "        print(\"'quit': Quit the game.\")\n",
    "        command = input(\"Enter a command: \").lower().split()\n",
    "        if not command:\n",
    "            continue\n",
    "        action = command[0]\n",
    "        \n",
    "        if action == 'quit':\n",
    "            save_inventory()\n",
    "            print(\"Thank you for playing!\")\n",
    "            break\n",
    "        elif action == 'go':\n",
    "            print(f\"You go {command[1]}.\")\n",
    "        elif action == 'look':\n",
    "            print(\"You look around, but you don't see anything unusual.\")\n",
    "        elif action == 'inventory':\n",
    "            show_inventory()\n",
    "        elif action == 'add':\n",
    "            item = ' '.join(command[1:])\n",
    "            inventory.append(item)\n",
    "            print(f\"{item} added to your inventory.\")\n",
    "        elif action == 'remove':\n",
    "            item = ' '.join(command[1:])\n",
    "            if item in inventory:\n",
    "                inventory.remove(item)\n",
    "                print(f\"{item} removed from your inventory.\")\n",
    "            else:\n",
    "                print(f\"{item} is not in your inventory.\")\n",
    "        else:\n",
    "            print(\"Invalid command. Please try again.\")"
   ]
  },
  {
   "cell_type": "code",
   "execution_count": 11,
   "metadata": {},
   "outputs": [
    {
     "name": "stdout",
     "output_type": "stream",
     "text": [
      "Welcome to 'The Enchanted Forest Adventure'!\n",
      "Inventory loaded successfully.\n",
      "Commands:\n",
      "'go ': Move in a specific direction.\n",
      "'look around': Examine your surroundings.\n",
      "'inventory': Display your current inventory.\n",
      "'add': Add an item to your inventory.\n",
      "'remove': Remove an item from your inventory.\n",
      "'quit': Quit the game.\n",
      "Enter a command: remove flu\n",
      "flu removed from your inventory.\n",
      "Commands:\n",
      "'go ': Move in a specific direction.\n",
      "'look around': Examine your surroundings.\n",
      "'inventory': Display your current inventory.\n",
      "'add': Add an item to your inventory.\n",
      "'remove': Remove an item from your inventory.\n",
      "'quit': Quit the game.\n",
      "Enter a command: quit\n",
      "Inventory saved successfully.\n",
      "Thank you for playing!\n"
     ]
    }
   ],
   "source": [
    "start_game()"
   ]
  }
 ],
 "metadata": {
  "colab": {
   "provenance": []
  },
  "kernelspec": {
   "display_name": "Python 3 (ipykernel)",
   "language": "python",
   "name": "python3"
  },
  "language_info": {
   "codemirror_mode": {
    "name": "ipython",
    "version": 3
   },
   "file_extension": ".py",
   "mimetype": "text/x-python",
   "name": "python",
   "nbconvert_exporter": "python",
   "pygments_lexer": "ipython3",
   "version": "3.11.5"
  }
 },
 "nbformat": 4,
 "nbformat_minor": 1
}
